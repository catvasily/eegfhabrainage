{
 "cells": [
  {
   "cell_type": "markdown",
   "id": "2477fb5c-9d21-4dd0-a8f8-c22d2659823d",
   "metadata": {},
   "source": [
    "# Annotations collector"
   ]
  },
  {
   "cell_type": "markdown",
   "id": "88cab1e6-4f3d-4edf-8489-721a118ea5df",
   "metadata": {},
   "source": [
    "This is a short guide on collecting annotations from a folder of EDF files. We have a test folder of 10 EDF files:"
   ]
  },
  {
   "cell_type": "code",
   "execution_count": 2,
   "id": "f09f70c8-c692-4c51-9b64-d87463bed0d8",
   "metadata": {},
   "outputs": [
    {
     "name": "stdout",
     "output_type": "stream",
     "text": [
      "000219d2-ce5d-443d-bc37-aca049885776.edf\n",
      "000ba10b-0f8c-4f11-badd-b20cb0f0de14.edf\n",
      "000f454b-ef0b-49f1-9391-ac0ba5d074ff.edf\n",
      "00209732-e4f3-42b8-9758-2423605f1fbf.edf\n",
      "00282340-afbc-4c4e-8c07-4d489c3a3edd.edf\n",
      "004a4e00-ec36-49a9-ac77-8ce16080a106.edf\n",
      "0058fbe4-4e63-4e94-a999-588ac85783e0.edf\n",
      "005964f5-acfb-4a30-9b4c-b8e79c65ca99.edf\n",
      "005ac7d8-3a00-4203-ad1c-b6a358d6ac84.edf\n",
      "006a360e-0fc0-4906-9989-5bc0e4b6797a.edf\n"
     ]
    }
   ],
   "source": [
    "!ls test_folder"
   ]
  },
  {
   "cell_type": "markdown",
   "id": "a9f0d9b6-f99e-4164-b71c-3b5345c6b7d6",
   "metadata": {},
   "source": [
    "First you need to get a package edf_annotations and import Collector class from it"
   ]
  },
  {
   "cell_type": "code",
   "execution_count": 1,
   "id": "feb2afb0-0f02-49ba-851c-01fc945ef091",
   "metadata": {},
   "outputs": [],
   "source": [
    "from edf_annotations import Collector"
   ]
  },
  {
   "cell_type": "markdown",
   "id": "073aaf9b-44c8-4651-9f38-746ded6e6ac3",
   "metadata": {},
   "source": [
    "By instantiating Collector class you need to provide path to folder with EDF files (with / at the end)"
   ]
  },
  {
   "cell_type": "code",
   "execution_count": 10,
   "id": "035233f9-9b42-4622-955f-bd9d526bb94a",
   "metadata": {},
   "outputs": [],
   "source": [
    "fpath = 'test_folder/'\n",
    "\n",
    "col = Collector(fpath)"
   ]
  },
  {
   "cell_type": "markdown",
   "id": "39cacd87-95c4-4f51-946d-4be109a900a3",
   "metadata": {},
   "source": [
    "Running collect_annotations() will go through files metadata and collect all annotations into dataframe. This updates and returns object attribute \"annotations_df\""
   ]
  },
  {
   "cell_type": "code",
   "execution_count": 11,
   "id": "0014b1ad-54ac-419b-8a3e-ccf01b1f0a17",
   "metadata": {},
   "outputs": [
    {
     "data": {
      "text/html": [
       "<div>\n",
       "<style scoped>\n",
       "    .dataframe tbody tr th:only-of-type {\n",
       "        vertical-align: middle;\n",
       "    }\n",
       "\n",
       "    .dataframe tbody tr th {\n",
       "        vertical-align: top;\n",
       "    }\n",
       "\n",
       "    .dataframe thead th {\n",
       "        text-align: right;\n",
       "    }\n",
       "</style>\n",
       "<table border=\"1\" class=\"dataframe\">\n",
       "  <thead>\n",
       "    <tr style=\"text-align: right;\">\n",
       "      <th></th>\n",
       "      <th>scan_id</th>\n",
       "      <th>annotations</th>\n",
       "    </tr>\n",
       "  </thead>\n",
       "  <tbody>\n",
       "    <tr>\n",
       "      <th>0</th>\n",
       "      <td>004a4e00-ec36-49a9-ac77-8ce16080a106</td>\n",
       "      <td>[]</td>\n",
       "    </tr>\n",
       "    <tr>\n",
       "      <th>1</th>\n",
       "      <td>005964f5-acfb-4a30-9b4c-b8e79c65ca99</td>\n",
       "      <td>[Eyes Closed, Eyes Open, Eyes Closed, head mid...</td>\n",
       "    </tr>\n",
       "    <tr>\n",
       "      <th>2</th>\n",
       "      <td>006a360e-0fc0-4906-9989-5bc0e4b6797a</td>\n",
       "      <td>[]</td>\n",
       "    </tr>\n",
       "    <tr>\n",
       "      <th>3</th>\n",
       "      <td>000f454b-ef0b-49f1-9391-ac0ba5d074ff</td>\n",
       "      <td>[Asleep, Tech will let pt sleep to start, Asle...</td>\n",
       "    </tr>\n",
       "    <tr>\n",
       "      <th>4</th>\n",
       "      <td>000ba10b-0f8c-4f11-badd-b20cb0f0de14</td>\n",
       "      <td>[HV Begin, HV End, good overall effort for 3mi...</td>\n",
       "    </tr>\n",
       "    <tr>\n",
       "      <th>5</th>\n",
       "      <td>000219d2-ce5d-443d-bc37-aca049885776</td>\n",
       "      <td>[Eyes Open, Eyes Closed, Post HV 30 Sec, Post ...</td>\n",
       "    </tr>\n",
       "    <tr>\n",
       "      <th>6</th>\n",
       "      <td>00282340-afbc-4c4e-8c07-4d489c3a3edd</td>\n",
       "      <td>[pt is confused, moving constantly , Eyes Clos...</td>\n",
       "    </tr>\n",
       "    <tr>\n",
       "      <th>7</th>\n",
       "      <td>00209732-e4f3-42b8-9758-2423605f1fbf</td>\n",
       "      <td>[notch=on, Gain/Filter Change, Gain/Filter Cha...</td>\n",
       "    </tr>\n",
       "    <tr>\n",
       "      <th>8</th>\n",
       "      <td>005ac7d8-3a00-4203-ad1c-b6a358d6ac84</td>\n",
       "      <td>[EC, MOVING, Drowsy, TOUCHING O1, Drowsy, Asle...</td>\n",
       "    </tr>\n",
       "    <tr>\n",
       "      <th>9</th>\n",
       "      <td>0058fbe4-4e63-4e94-a999-588ac85783e0</td>\n",
       "      <td>[Eyes Open, Eyes Closed, checj EKG  jacks, Eye...</td>\n",
       "    </tr>\n",
       "  </tbody>\n",
       "</table>\n",
       "</div>"
      ],
      "text/plain": [
       "                                scan_id  \\\n",
       "0  004a4e00-ec36-49a9-ac77-8ce16080a106   \n",
       "1  005964f5-acfb-4a30-9b4c-b8e79c65ca99   \n",
       "2  006a360e-0fc0-4906-9989-5bc0e4b6797a   \n",
       "3  000f454b-ef0b-49f1-9391-ac0ba5d074ff   \n",
       "4  000ba10b-0f8c-4f11-badd-b20cb0f0de14   \n",
       "5  000219d2-ce5d-443d-bc37-aca049885776   \n",
       "6  00282340-afbc-4c4e-8c07-4d489c3a3edd   \n",
       "7  00209732-e4f3-42b8-9758-2423605f1fbf   \n",
       "8  005ac7d8-3a00-4203-ad1c-b6a358d6ac84   \n",
       "9  0058fbe4-4e63-4e94-a999-588ac85783e0   \n",
       "\n",
       "                                         annotations  \n",
       "0                                                 []  \n",
       "1  [Eyes Closed, Eyes Open, Eyes Closed, head mid...  \n",
       "2                                                 []  \n",
       "3  [Asleep, Tech will let pt sleep to start, Asle...  \n",
       "4  [HV Begin, HV End, good overall effort for 3mi...  \n",
       "5  [Eyes Open, Eyes Closed, Post HV 30 Sec, Post ...  \n",
       "6  [pt is confused, moving constantly , Eyes Clos...  \n",
       "7  [notch=on, Gain/Filter Change, Gain/Filter Cha...  \n",
       "8  [EC, MOVING, Drowsy, TOUCHING O1, Drowsy, Asle...  \n",
       "9  [Eyes Open, Eyes Closed, checj EKG  jacks, Eye...  "
      ]
     },
     "execution_count": 11,
     "metadata": {},
     "output_type": "execute_result"
    }
   ],
   "source": [
    "col.collect_annotations()"
   ]
  },
  {
   "cell_type": "markdown",
   "id": "71754771-773e-4419-ac68-cadde2977569",
   "metadata": {},
   "source": [
    "Running count_annotations() method will combine all annotations into single array and count each annotation appearance:"
   ]
  },
  {
   "cell_type": "code",
   "execution_count": 12,
   "id": "fe145c97-a67e-4803-89ec-ba213bda69e9",
   "metadata": {},
   "outputs": [],
   "source": [
    "col.count_annotations()"
   ]
  },
  {
   "cell_type": "markdown",
   "id": "375ec6be-5528-4dc0-9efa-116ebf6cb49e",
   "metadata": {},
   "source": [
    "You can access all counts with count_df attribute:"
   ]
  },
  {
   "cell_type": "code",
   "execution_count": 13,
   "id": "6d3bdfc9-7c6e-4af5-b6b3-8408dffa278a",
   "metadata": {},
   "outputs": [
    {
     "data": {
      "text/html": [
       "<div>\n",
       "<style scoped>\n",
       "    .dataframe tbody tr th:only-of-type {\n",
       "        vertical-align: middle;\n",
       "    }\n",
       "\n",
       "    .dataframe tbody tr th {\n",
       "        vertical-align: top;\n",
       "    }\n",
       "\n",
       "    .dataframe thead th {\n",
       "        text-align: right;\n",
       "    }\n",
       "</style>\n",
       "<table border=\"1\" class=\"dataframe\">\n",
       "  <thead>\n",
       "    <tr style=\"text-align: right;\">\n",
       "      <th></th>\n",
       "      <th>annot</th>\n",
       "      <th>count</th>\n",
       "    </tr>\n",
       "  </thead>\n",
       "  <tbody>\n",
       "    <tr>\n",
       "      <th>0</th>\n",
       "      <td>Eyes Closed</td>\n",
       "      <td>29</td>\n",
       "    </tr>\n",
       "    <tr>\n",
       "      <th>1</th>\n",
       "      <td>Eyes Open</td>\n",
       "      <td>16</td>\n",
       "    </tr>\n",
       "    <tr>\n",
       "      <th>5</th>\n",
       "      <td>Drowsy</td>\n",
       "      <td>13</td>\n",
       "    </tr>\n",
       "    <tr>\n",
       "      <th>6</th>\n",
       "      <td>Asleep</td>\n",
       "      <td>11</td>\n",
       "    </tr>\n",
       "    <tr>\n",
       "      <th>10</th>\n",
       "      <td>Gain/Filter Change</td>\n",
       "      <td>7</td>\n",
       "    </tr>\n",
       "  </tbody>\n",
       "</table>\n",
       "</div>"
      ],
      "text/plain": [
       "                 annot  count\n",
       "0          Eyes Closed     29\n",
       "1            Eyes Open     16\n",
       "5               Drowsy     13\n",
       "6               Asleep     11\n",
       "10  Gain/Filter Change      7"
      ]
     },
     "execution_count": 13,
     "metadata": {},
     "output_type": "execute_result"
    }
   ],
   "source": [
    "col.count_df.head()"
   ]
  },
  {
   "cell_type": "markdown",
   "id": "98ff4db1-5ba8-4fe2-b0ee-0055d300bfc3",
   "metadata": {},
   "source": [
    "Use method lookup_anntations() to find out frequency of annotations containing specific keywords. For example, this query will return you all annotations containing \"HV\""
   ]
  },
  {
   "cell_type": "code",
   "execution_count": 14,
   "id": "74284b5a-40ce-449f-a750-c3ee7cbb7da8",
   "metadata": {},
   "outputs": [
    {
     "data": {
      "text/html": [
       "<div>\n",
       "<style scoped>\n",
       "    .dataframe tbody tr th:only-of-type {\n",
       "        vertical-align: middle;\n",
       "    }\n",
       "\n",
       "    .dataframe tbody tr th {\n",
       "        vertical-align: top;\n",
       "    }\n",
       "\n",
       "    .dataframe thead th {\n",
       "        text-align: right;\n",
       "    }\n",
       "</style>\n",
       "<table border=\"1\" class=\"dataframe\">\n",
       "  <thead>\n",
       "    <tr style=\"text-align: right;\">\n",
       "      <th></th>\n",
       "      <th>annot</th>\n",
       "      <th>count</th>\n",
       "    </tr>\n",
       "  </thead>\n",
       "  <tbody>\n",
       "    <tr>\n",
       "      <th>25</th>\n",
       "      <td>Post HV 90 Sec</td>\n",
       "      <td>2</td>\n",
       "    </tr>\n",
       "    <tr>\n",
       "      <th>24</th>\n",
       "      <td>Post HV 60 Sec</td>\n",
       "      <td>2</td>\n",
       "    </tr>\n",
       "    <tr>\n",
       "      <th>23</th>\n",
       "      <td>Post HV 30 Sec</td>\n",
       "      <td>2</td>\n",
       "    </tr>\n",
       "    <tr>\n",
       "      <th>18</th>\n",
       "      <td>HV End</td>\n",
       "      <td>1</td>\n",
       "    </tr>\n",
       "    <tr>\n",
       "      <th>17</th>\n",
       "      <td>HV Begin</td>\n",
       "      <td>1</td>\n",
       "    </tr>\n",
       "  </tbody>\n",
       "</table>\n",
       "</div>"
      ],
      "text/plain": [
       "             annot  count\n",
       "25  Post HV 90 Sec      2\n",
       "24  Post HV 60 Sec      2\n",
       "23  Post HV 30 Sec      2\n",
       "18          HV End      1\n",
       "17        HV Begin      1"
      ]
     },
     "execution_count": 14,
     "metadata": {},
     "output_type": "execute_result"
    }
   ],
   "source": [
    "col.lookup_annotation('HV')"
   ]
  }
 ],
 "metadata": {
  "kernelspec": {
   "display_name": "Python 3 (ipykernel)",
   "language": "python",
   "name": "python3"
  },
  "language_info": {
   "codemirror_mode": {
    "name": "ipython",
    "version": 3
   },
   "file_extension": ".py",
   "mimetype": "text/x-python",
   "name": "python",
   "nbconvert_exporter": "python",
   "pygments_lexer": "ipython3",
   "version": "3.8.10"
  }
 },
 "nbformat": 4,
 "nbformat_minor": 5
}
